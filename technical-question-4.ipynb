{
 "cells": [
  {
   "cell_type": "code",
   "execution_count": 40,
   "metadata": {},
   "outputs": [
    {
     "data": {
      "text/plain": [
       "['Requirement already satisfied: ipython-sql in c:\\\\users\\\\sefa3\\\\anaconda3\\\\lib\\\\site-packages (0.3.9)',\n",
       " 'Requirement already satisfied: six in c:\\\\users\\\\sefa3\\\\appdata\\\\roaming\\\\python\\\\python37\\\\site-packages (from ipython-sql) (1.12.0)',\n",
       " 'Requirement already satisfied: sqlparse in c:\\\\users\\\\sefa3\\\\anaconda3\\\\lib\\\\site-packages (from ipython-sql) (0.3.0)',\n",
       " 'Requirement already satisfied: sqlalchemy>=0.6.7 in c:\\\\users\\\\sefa3\\\\anaconda3\\\\lib\\\\site-packages (from ipython-sql) (1.3.1)',\n",
       " 'Requirement already satisfied: ipython-genutils>=0.1.0 in c:\\\\users\\\\sefa3\\\\anaconda3\\\\lib\\\\site-packages (from ipython-sql) (0.2.0)',\n",
       " 'Requirement already satisfied: prettytable in c:\\\\users\\\\sefa3\\\\anaconda3\\\\lib\\\\site-packages (from ipython-sql) (0.7.2)',\n",
       " 'Requirement already satisfied: ipython>=1.0 in c:\\\\users\\\\sefa3\\\\anaconda3\\\\lib\\\\site-packages (from ipython-sql) (7.4.0)',\n",
       " 'Requirement already satisfied: traitlets>=4.2 in c:\\\\users\\\\sefa3\\\\anaconda3\\\\lib\\\\site-packages (from ipython>=1.0->ipython-sql) (4.3.2)',\n",
       " 'Requirement already satisfied: colorama; sys_platform == \"win32\" in c:\\\\users\\\\sefa3\\\\appdata\\\\roaming\\\\python\\\\python37\\\\site-packages (from ipython>=1.0->ipython-sql) (0.4.1)',\n",
       " 'Requirement already satisfied: decorator in c:\\\\users\\\\sefa3\\\\anaconda3\\\\lib\\\\site-packages (from ipython>=1.0->ipython-sql) (4.4.0)',\n",
       " 'Requirement already satisfied: pickleshare in c:\\\\users\\\\sefa3\\\\anaconda3\\\\lib\\\\site-packages (from ipython>=1.0->ipython-sql) (0.7.5)',\n",
       " 'Requirement already satisfied: pygments in c:\\\\users\\\\sefa3\\\\anaconda3\\\\lib\\\\site-packages (from ipython>=1.0->ipython-sql) (2.3.1)',\n",
       " 'Requirement already satisfied: backcall in c:\\\\users\\\\sefa3\\\\anaconda3\\\\lib\\\\site-packages (from ipython>=1.0->ipython-sql) (0.1.0)',\n",
       " 'Requirement already satisfied: jedi>=0.10 in c:\\\\users\\\\sefa3\\\\anaconda3\\\\lib\\\\site-packages (from ipython>=1.0->ipython-sql) (0.13.3)',\n",
       " 'Requirement already satisfied: prompt-toolkit<2.1.0,>=2.0.0 in c:\\\\users\\\\sefa3\\\\anaconda3\\\\lib\\\\site-packages (from ipython>=1.0->ipython-sql) (2.0.9)',\n",
       " 'Requirement already satisfied: setuptools>=18.5 in c:\\\\users\\\\sefa3\\\\anaconda3\\\\lib\\\\site-packages (from ipython>=1.0->ipython-sql) (41.2.0)',\n",
       " 'Requirement already satisfied: parso>=0.3.0 in c:\\\\users\\\\sefa3\\\\anaconda3\\\\lib\\\\site-packages (from jedi>=0.10->ipython>=1.0->ipython-sql) (0.3.4)',\n",
       " 'Requirement already satisfied: wcwidth in c:\\\\users\\\\sefa3\\\\anaconda3\\\\lib\\\\site-packages (from prompt-toolkit<2.1.0,>=2.0.0->ipython>=1.0->ipython-sql) (0.1.7)']"
      ]
     },
     "execution_count": 40,
     "metadata": {},
     "output_type": "execute_result"
    }
   ],
   "source": [
    "%%!\n",
    "pip install --trusted-host pypi.org ipython-sql"
   ]
  },
  {
   "cell_type": "code",
   "execution_count": 41,
   "metadata": {},
   "outputs": [],
   "source": [
    "%load_ext sql"
   ]
  },
  {
   "cell_type": "code",
   "execution_count": 42,
   "metadata": {},
   "outputs": [
    {
     "data": {
      "text/plain": [
       "'Connected: @lib.db'"
      ]
     },
     "execution_count": 42,
     "metadata": {},
     "output_type": "execute_result"
    }
   ],
   "source": [
    "%sql sqlite:///lib.db"
   ]
  },
  {
   "cell_type": "code",
   "execution_count": 50,
   "metadata": {},
   "outputs": [
    {
     "name": "stdout",
     "output_type": "stream",
     "text": [
      " * sqlite:///lib.db\n",
      "Done.\n"
     ]
    },
    {
     "data": {
      "text/html": [
       "<table>\n",
       "    <tr>\n",
       "        <th>userld</th>\n",
       "        <th>username</th>\n",
       "        <th>emailaddress</th>\n",
       "    </tr>\n",
       "    <tr>\n",
       "        <td>2</td>\n",
       "        <td>Jonathon</td>\n",
       "        <td>Jonathan@gmail.com</td>\n",
       "    </tr>\n",
       "    <tr>\n",
       "        <td>3</td>\n",
       "        <td>Rita</td>\n",
       "        <td>Rita@yahoo.com</td>\n",
       "    </tr>\n",
       "    <tr>\n",
       "        <td>4</td>\n",
       "        <td>Christopher</td>\n",
       "        <td>Christopher@hotmail.com</td>\n",
       "    </tr>\n",
       "    <tr>\n",
       "        <td>5</td>\n",
       "        <td>Kenzo</td>\n",
       "        <td>Kenzo@gmail.com</td>\n",
       "    </tr>\n",
       "    <tr>\n",
       "        <td>6</td>\n",
       "        <td>Brent</td>\n",
       "        <td>Brent@gmail.com</td>\n",
       "    </tr>\n",
       "    <tr>\n",
       "        <td>7</td>\n",
       "        <td>Adrianna</td>\n",
       "        <td>Adrianna@hotmail.com</td>\n",
       "    </tr>\n",
       "    <tr>\n",
       "        <td>8</td>\n",
       "        <td>Faheem</td>\n",
       "        <td>Faheem@gmail.com</td>\n",
       "    </tr>\n",
       "    <tr>\n",
       "        <td>9</td>\n",
       "        <td>Dimitri</td>\n",
       "        <td>Dimitri@gmail.com</td>\n",
       "    </tr>\n",
       "    <tr>\n",
       "        <td>10</td>\n",
       "        <td>Fred</td>\n",
       "        <td>Fred@gmail.com</td>\n",
       "    </tr>\n",
       "    <tr>\n",
       "        <td>11</td>\n",
       "        <td>Lily</td>\n",
       "        <td>Lily@yahoo.com</td>\n",
       "    </tr>\n",
       "</table>"
      ],
      "text/plain": [
       "[(2, 'Jonathon', 'Jonathan@gmail.com'),\n",
       " (3, 'Rita', 'Rita@yahoo.com'),\n",
       " (4, 'Christopher', 'Christopher@hotmail.com'),\n",
       " (5, 'Kenzo', 'Kenzo@gmail.com'),\n",
       " (6, 'Brent', 'Brent@gmail.com'),\n",
       " (7, 'Adrianna', 'Adrianna@hotmail.com'),\n",
       " (8, 'Faheem', 'Faheem@gmail.com'),\n",
       " (9, 'Dimitri', 'Dimitri@gmail.com'),\n",
       " (10, 'Fred', 'Fred@gmail.com'),\n",
       " (11, 'Lily', 'Lily@yahoo.com')]"
      ]
     },
     "execution_count": 50,
     "metadata": {},
     "output_type": "execute_result"
    }
   ],
   "source": [
    "%%sql\n",
    "SELECT userld, username, emailaddress FROM i_users WHERE NOT username = 'Administrator'"
   ]
  },
  {
   "cell_type": "code",
   "execution_count": 51,
   "metadata": {},
   "outputs": [
    {
     "name": "stdout",
     "output_type": "stream",
     "text": [
      " * sqlite:///lib.db\n",
      "Done.\n"
     ]
    },
    {
     "data": {
      "text/html": [
       "<table>\n",
       "    <tr>\n",
       "        <th>userld</th>\n",
       "        <th>logins</th>\n",
       "    </tr>\n",
       "    <tr>\n",
       "        <td>2</td>\n",
       "        <td>5</td>\n",
       "    </tr>\n",
       "    <tr>\n",
       "        <td>3</td>\n",
       "        <td>5</td>\n",
       "    </tr>\n",
       "    <tr>\n",
       "        <td>4</td>\n",
       "        <td>3</td>\n",
       "    </tr>\n",
       "    <tr>\n",
       "        <td>7</td>\n",
       "        <td>3</td>\n",
       "    </tr>\n",
       "    <tr>\n",
       "        <td>6</td>\n",
       "        <td>2</td>\n",
       "    </tr>\n",
       "    <tr>\n",
       "        <td>8</td>\n",
       "        <td>2</td>\n",
       "    </tr>\n",
       "    <tr>\n",
       "        <td>9</td>\n",
       "        <td>2</td>\n",
       "    </tr>\n",
       "    <tr>\n",
       "        <td>5</td>\n",
       "        <td>1</td>\n",
       "    </tr>\n",
       "</table>"
      ],
      "text/plain": [
       "[(2, 5), (3, 5), (4, 3), (7, 3), (6, 2), (8, 2), (9, 2), (5, 1)]"
      ]
     },
     "execution_count": 51,
     "metadata": {},
     "output_type": "execute_result"
    }
   ],
   "source": [
    "%%sql\n",
    "SELECT userld, COUNT(userld) as logins FROM i_user_login_logs WHERE NOT userld = 1 GROUP BY userld ORDER BY logins DESC;"
   ]
  },
  {
   "cell_type": "code",
   "execution_count": 49,
   "metadata": {},
   "outputs": [
    {
     "name": "stdout",
     "output_type": "stream",
     "text": [
      " * sqlite:///lib.db\n",
      "Done.\n"
     ]
    },
    {
     "data": {
      "text/html": [
       "<table>\n",
       "    <tr>\n",
       "        <th>username</th>\n",
       "        <th>emailaddress</th>\n",
       "    </tr>\n",
       "    <tr>\n",
       "        <td>Jonathon</td>\n",
       "        <td>Jonathan@gmail.com</td>\n",
       "    </tr>\n",
       "    <tr>\n",
       "        <td>Rita</td>\n",
       "        <td>Rita@yahoo.com</td>\n",
       "    </tr>\n",
       "</table>"
      ],
      "text/plain": [
       "[('Jonathon', 'Jonathan@gmail.com'), ('Rita', 'Rita@yahoo.com')]"
      ]
     },
     "execution_count": 49,
     "metadata": {},
     "output_type": "execute_result"
    }
   ],
   "source": [
    "%%sql\n",
    "SELECT username, emailaddress FROM\n",
    "(SELECT i_users.userld, i_users.username, i_users.emailaddress, COUNT(i_user_login_logs.userld) as logins\n",
    " FROM i_users LEFT JOIN i_user_login_logs ON i_users.userld = i_user_login_logs.userld WHERE NOT username = 'Administrator'\n",
    " GROUP BY i_user_login_logs.userld ORDER BY logins DESC)\n",
    "WHERE logins > 3\n"
   ]
  },
  {
   "cell_type": "code",
   "execution_count": null,
   "metadata": {},
   "outputs": [],
   "source": []
  }
 ],
 "metadata": {
  "kernelspec": {
   "display_name": "Python 3",
   "language": "python",
   "name": "python3"
  },
  "language_info": {
   "codemirror_mode": {
    "name": "ipython",
    "version": 3
   },
   "file_extension": ".py",
   "mimetype": "text/x-python",
   "name": "python",
   "nbconvert_exporter": "python",
   "pygments_lexer": "ipython3",
   "version": "3.7.3"
  }
 },
 "nbformat": 4,
 "nbformat_minor": 2
}
